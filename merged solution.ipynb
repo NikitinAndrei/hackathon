{
  "nbformat": 4,
  "nbformat_minor": 0,
  "metadata": {
    "colab": {
      "name": "Копия блокнота \"Хакатон.ipynb\"",
      "provenance": [],
      "collapsed_sections": [],
      "toc_visible": true
    },
    "kernelspec": {
      "name": "python3",
      "display_name": "Python 3"
    },
    "language_info": {
      "name": "python"
    },
    "gpuClass": "standard"
  },
  "cells": [
    {
      "cell_type": "markdown",
      "source": [
        "# Интерфейс приложения "
      ],
      "metadata": {
        "id": "CctbyZW0ZBXV"
      }
    },
    {
      "cell_type": "code",
      "source": [
        "# -*- coding: utf-8 -*-\n",
        "\"\"\"\n",
        "Created on Mon Nov  1 11:40:37 2021\n",
        "\n",
        "@author: Иван\n",
        "\"\"\"\n",
        "import tkinter as tk\n",
        "import tkinter.filedialog as fd\n",
        "import tkinter.messagebox as mb\n",
        "\n",
        "class App(tk.Tk):\n",
        "    '''\n",
        "    Класс выбирает файл\n",
        "    ''' \n",
        "    def __init__(self):\n",
        "        super().__init__()\n",
        "        btn_file = tk.Button(self, text=\"Выбрать файл\",\n",
        "                             command=self.choose_file)\n",
        "      \n",
        "        btn_file.pack(padx=120, pady=30)\n",
        "        \n",
        "\n",
        "    def choose_file(self):\n",
        "        filetypes = (\n",
        "                     (\"Данные\", \"*.xls\"),\n",
        "                     )\n",
        "        filename = fd.askopenfilename(title=\"Открыть файл\", initialdir=\"/\",\n",
        "                                      filetypes=filetypes)\n",
        "        if filename:\n",
        "            print(filename)\n",
        "            app.destroy()\n",
        "class App2(tk.Tk):\n",
        "    '''\n",
        "    Сохранение файла\n",
        "    ''' \n",
        "    def __init__(self):\n",
        "        super().__init__()\n",
        "       \n",
        "        self.btn_save = tk.Button(self, text=\"Сохранить\", command=self.save_file)\n",
        "\n",
        "        self.btn_save.pack(pady=10, ipadx=5)\n",
        "\n",
        "    def save_file(self):\n",
        "        contents = \"ааа\"\n",
        "        new_file = fd.asksaveasfile(title=\"Сохранить файл\", defaultextension=\".xls\",\n",
        "                                    filetypes=((\"Результат\", \"*.xls\"),))\n",
        "        if new_file:\n",
        "            new_file.write(contents)\n",
        "            new_file.close() \n",
        "            app.destroy()\n",
        "class App3(tk.Tk):\n",
        "    '''\n",
        "    Кнопка обработки\n",
        "    '''\n",
        "    def __init__(self):\n",
        "        super().__init__()\n",
        "        self.create_button(mb.askyesno, \"Обработка\",\n",
        "                           \"Вернет True или False\")\n",
        "        \n",
        "    def create_button(self, dialog, title, message):\n",
        "        command = lambda: print(dialog(title, message))\n",
        "        btn = tk.Button(self, text=title, command=command)\n",
        "        btn.pack(padx=40, pady=5, expand=True, fill=tk.BOTH)\n",
        "if __name__ == \"__main__\":\n",
        "    app = App()\n",
        "    app.mainloop()\n",
        "    app = App2()\n",
        "    app.close()\n",
        "    \n"
      ],
      "metadata": {
        "id": "PdAX7Uy_ZDhD",
        "colab": {
          "base_uri": "https://localhost:8080/",
          "height": 427
        },
        "outputId": "9f85f52d-2fa4-4695-cc51-8bf9b0ff9854"
      },
      "execution_count": null,
      "outputs": [
        {
          "output_type": "error",
          "ename": "TclError",
          "evalue": "ignored",
          "traceback": [
            "\u001b[0;31m---------------------------------------------------------------------------\u001b[0m",
            "\u001b[0;31mTclError\u001b[0m                                  Traceback (most recent call last)",
            "\u001b[0;32m<ipython-input-1-b239c1fa1341>\u001b[0m in \u001b[0;36m<module>\u001b[0;34m\u001b[0m\n\u001b[1;32m     63\u001b[0m         \u001b[0mbtn\u001b[0m\u001b[0;34m.\u001b[0m\u001b[0mpack\u001b[0m\u001b[0;34m(\u001b[0m\u001b[0mpadx\u001b[0m\u001b[0;34m=\u001b[0m\u001b[0;36m40\u001b[0m\u001b[0;34m,\u001b[0m \u001b[0mpady\u001b[0m\u001b[0;34m=\u001b[0m\u001b[0;36m5\u001b[0m\u001b[0;34m,\u001b[0m \u001b[0mexpand\u001b[0m\u001b[0;34m=\u001b[0m\u001b[0;32mTrue\u001b[0m\u001b[0;34m,\u001b[0m \u001b[0mfill\u001b[0m\u001b[0;34m=\u001b[0m\u001b[0mtk\u001b[0m\u001b[0;34m.\u001b[0m\u001b[0mBOTH\u001b[0m\u001b[0;34m)\u001b[0m\u001b[0;34m\u001b[0m\u001b[0;34m\u001b[0m\u001b[0m\n\u001b[1;32m     64\u001b[0m \u001b[0;32mif\u001b[0m \u001b[0m__name__\u001b[0m \u001b[0;34m==\u001b[0m \u001b[0;34m\"__main__\"\u001b[0m\u001b[0;34m:\u001b[0m\u001b[0;34m\u001b[0m\u001b[0;34m\u001b[0m\u001b[0m\n\u001b[0;32m---> 65\u001b[0;31m     \u001b[0mapp\u001b[0m \u001b[0;34m=\u001b[0m \u001b[0mApp\u001b[0m\u001b[0;34m(\u001b[0m\u001b[0;34m)\u001b[0m\u001b[0;34m\u001b[0m\u001b[0;34m\u001b[0m\u001b[0m\n\u001b[0m\u001b[1;32m     66\u001b[0m     \u001b[0mapp\u001b[0m\u001b[0;34m.\u001b[0m\u001b[0mmainloop\u001b[0m\u001b[0;34m(\u001b[0m\u001b[0;34m)\u001b[0m\u001b[0;34m\u001b[0m\u001b[0;34m\u001b[0m\u001b[0m\n\u001b[1;32m     67\u001b[0m     \u001b[0mapp\u001b[0m \u001b[0;34m=\u001b[0m \u001b[0mApp2\u001b[0m\u001b[0;34m(\u001b[0m\u001b[0;34m)\u001b[0m\u001b[0;34m\u001b[0m\u001b[0;34m\u001b[0m\u001b[0m\n",
            "\u001b[0;32m<ipython-input-1-b239c1fa1341>\u001b[0m in \u001b[0;36m__init__\u001b[0;34m(self)\u001b[0m\n\u001b[1;32m     14\u001b[0m     ''' \n\u001b[1;32m     15\u001b[0m     \u001b[0;32mdef\u001b[0m \u001b[0m__init__\u001b[0m\u001b[0;34m(\u001b[0m\u001b[0mself\u001b[0m\u001b[0;34m)\u001b[0m\u001b[0;34m:\u001b[0m\u001b[0;34m\u001b[0m\u001b[0;34m\u001b[0m\u001b[0m\n\u001b[0;32m---> 16\u001b[0;31m         \u001b[0msuper\u001b[0m\u001b[0;34m(\u001b[0m\u001b[0;34m)\u001b[0m\u001b[0;34m.\u001b[0m\u001b[0m__init__\u001b[0m\u001b[0;34m(\u001b[0m\u001b[0;34m)\u001b[0m\u001b[0;34m\u001b[0m\u001b[0;34m\u001b[0m\u001b[0m\n\u001b[0m\u001b[1;32m     17\u001b[0m         btn_file = tk.Button(self, text=\"Выбрать файл\",\n\u001b[1;32m     18\u001b[0m                              command=self.choose_file)\n",
            "\u001b[0;32m/usr/lib/python3.7/tkinter/__init__.py\u001b[0m in \u001b[0;36m__init__\u001b[0;34m(self, screenName, baseName, className, useTk, sync, use)\u001b[0m\n\u001b[1;32m   2021\u001b[0m                 \u001b[0mbaseName\u001b[0m \u001b[0;34m=\u001b[0m \u001b[0mbaseName\u001b[0m \u001b[0;34m+\u001b[0m \u001b[0mext\u001b[0m\u001b[0;34m\u001b[0m\u001b[0;34m\u001b[0m\u001b[0m\n\u001b[1;32m   2022\u001b[0m         \u001b[0minteractive\u001b[0m \u001b[0;34m=\u001b[0m \u001b[0;36m0\u001b[0m\u001b[0;34m\u001b[0m\u001b[0;34m\u001b[0m\u001b[0m\n\u001b[0;32m-> 2023\u001b[0;31m         \u001b[0mself\u001b[0m\u001b[0;34m.\u001b[0m\u001b[0mtk\u001b[0m \u001b[0;34m=\u001b[0m \u001b[0m_tkinter\u001b[0m\u001b[0;34m.\u001b[0m\u001b[0mcreate\u001b[0m\u001b[0;34m(\u001b[0m\u001b[0mscreenName\u001b[0m\u001b[0;34m,\u001b[0m \u001b[0mbaseName\u001b[0m\u001b[0;34m,\u001b[0m \u001b[0mclassName\u001b[0m\u001b[0;34m,\u001b[0m \u001b[0minteractive\u001b[0m\u001b[0;34m,\u001b[0m \u001b[0mwantobjects\u001b[0m\u001b[0;34m,\u001b[0m \u001b[0museTk\u001b[0m\u001b[0;34m,\u001b[0m \u001b[0msync\u001b[0m\u001b[0;34m,\u001b[0m \u001b[0muse\u001b[0m\u001b[0;34m)\u001b[0m\u001b[0;34m\u001b[0m\u001b[0;34m\u001b[0m\u001b[0m\n\u001b[0m\u001b[1;32m   2024\u001b[0m         \u001b[0;32mif\u001b[0m \u001b[0museTk\u001b[0m\u001b[0;34m:\u001b[0m\u001b[0;34m\u001b[0m\u001b[0;34m\u001b[0m\u001b[0m\n\u001b[1;32m   2025\u001b[0m             \u001b[0mself\u001b[0m\u001b[0;34m.\u001b[0m\u001b[0m_loadtk\u001b[0m\u001b[0;34m(\u001b[0m\u001b[0;34m)\u001b[0m\u001b[0;34m\u001b[0m\u001b[0;34m\u001b[0m\u001b[0m\n",
            "\u001b[0;31mTclError\u001b[0m: no display name and no $DISPLAY environment variable"
          ]
        }
      ]
    },
    {
      "cell_type": "markdown",
      "source": [
        "# Обработка файлов"
      ],
      "metadata": {
        "id": "B2_fDfuNOKhF"
      }
    },
    {
      "cell_type": "markdown",
      "source": [
        "Иван Алексеевич"
      ],
      "metadata": {
        "id": "c9Sh1ZfNYn9Y"
      }
    },
    {
      "cell_type": "code",
      "source": [
        "import pandas as pd\n",
        "import numpy as np\n",
        "from statistics import mean"
      ],
      "metadata": {
        "id": "mzOl2__24ZQk"
      },
      "execution_count": null,
      "outputs": []
    },
    {
      "cell_type": "code",
      "source": [
        "data_train = '/content/Train.xlsx'\n",
        "def load_train(data):\n",
        "    '''\n",
        "    data: Ссылка на тренировочный датасет\n",
        "    '''\n",
        "    data_train = pd.read_excel(data)\n",
        "    data_train = data_train[1:data_train.size]\n",
        "    numpy_dataset = []\n",
        "    for j in range(1,len(data_train.columns)):\n",
        "        numpy_dataset += [np.array(data_train[data_train.columns[j]])]\n",
        "    for i in range(len(numpy_dataset)):\n",
        "        for j in range(len(numpy_dataset[i])):\n",
        "            if np.isnan(numpy_dataset[i][j]):\n",
        "                numpy_dataset[i][j] = 0\n",
        "    return numpy_dataset\n",
        "data_train = load_train(data_train)\n"
      ],
      "metadata": {
        "id": "_oxYEfp7dqYM"
      },
      "execution_count": null,
      "outputs": []
    },
    {
      "cell_type": "code",
      "source": [
        "def load_test(file):\n",
        "    data = pd.read_excel(file)\n",
        "    data_copy = data.copy()\n",
        "    data_copy = data_copy.iloc[:, 1:]\n",
        "    numpy_data = np.array(data_copy)\n",
        "    \n",
        "    for i in range(1, numpy_data.shape[1]):\n",
        "        if(i == 1):\n",
        "            Number_of_Forecast = np.count_nonzero(numpy_data[:, i] == 'Forecast')\n",
        "        else:\n",
        "            Number_of_Forecast = np.append(Number_of_Forecast, np.count_nonzero(numpy_data[:, i] == 'Forecast'))\n",
        "    \n",
        "    out = []\n",
        "    for i in range(0, numpy_data.shape[1], 1):\n",
        "        out.append(numpy_data[:, i][numpy_data[:, i] != 'Forecast'])\n",
        "    \n",
        "    if(len(set(Number_of_Forecast)) == 1):\n",
        "        return out, \"Безусловный прогноз\"\n",
        "    elif(np.count_nonzero(Number_of_Forecast == 0)):\n",
        "        return out, \"Условный прогноз\"\n",
        "    elif(any((i > mean(Number_of_Forecast)) for i in Number_of_Forecast)):\n",
        "        return out, \"Прогноз с задержкой статистики\"\n",
        "    else:\n",
        "        return \"error\""
      ],
      "metadata": {
        "id": "rKwyC2xWCzU9"
      },
      "execution_count": null,
      "outputs": []
    },
    {
      "cell_type": "code",
      "source": [
        "load_test('/content/Test_example2.xlsx')"
      ],
      "metadata": {
        "id": "4-XaNPup5C6f"
      },
      "execution_count": null,
      "outputs": []
    },
    {
      "cell_type": "markdown",
      "source": [
        "# From numpy to excel"
      ],
      "metadata": {
        "id": "gsI7r0mOdUmG"
      }
    },
    {
      "cell_type": "code",
      "source": [
        "# Копирует не всю таблицу\n",
        "\n",
        "data = pd.read_excel('/content/Test_example2.xlsx')\n",
        "data_copy = data.copy()\n",
        "\n",
        "dates = np.array(data_copy.tail(6)['Unnamed: 0'])\n",
        "number_dates = len(dates)\n",
        "dates = dates.reshape(number_dates, 1)\n",
        "\n",
        "header = np.array(data_copy.columns)\n",
        "number_header = len(header)\n",
        "header = header.reshape(1, number_header)\n",
        "\n",
        "data_copy = data_copy.iloc[:, 1:]\n",
        "\n",
        "numpy_data = np.array(data_copy)\n",
        "numpy_predict = numpy_data[2:8, :]\n",
        "numpy_output = np.hstack((dates, numpy_predict))\n",
        "numpy_output = np.vstack((header, numpy_output))\n",
        "\n",
        "output_dataset = pd.DataFrame(numpy_output)\n",
        "output_dataset.to_excel('/content/aboba.xlsx', index=False)\n",
        "test = pd.read_excel('/content/aboba.xlsx')\n",
        "test_copy = test.copy()\n",
        "test"
      ],
      "metadata": {
        "id": "FFlqkWDkdUHX",
        "colab": {
          "base_uri": "https://localhost:8080/",
          "height": 269
        },
        "outputId": "e690dbc6-e505-483a-df92-ece3605356f2"
      },
      "execution_count": null,
      "outputs": [
        {
          "output_type": "execute_result",
          "data": {
            "text/plain": [
              "            0         1      2         3         4\n",
              "0  Unnamed: 0      Var1   Var2      Var3      Var4\n",
              "1       10m07  0.026813  2.625  3.363693  0.061665\n",
              "2       10m08  0.036764  1.888  3.130242  0.052624\n",
              "3       10m09  0.044732  1.308  3.210488  0.042574\n",
              "4       10m10    0.0527  1.361  3.240395  0.047561\n",
              "5       10m11  0.059676  3.618  3.290428  0.074203\n",
              "6       10m12  0.055668  3.813  3.366655  0.103762"
            ],
            "text/html": [
              "\n",
              "  <div id=\"df-bc51fe52-65ab-4229-bf19-d033a99c9db6\">\n",
              "    <div class=\"colab-df-container\">\n",
              "      <div>\n",
              "<style scoped>\n",
              "    .dataframe tbody tr th:only-of-type {\n",
              "        vertical-align: middle;\n",
              "    }\n",
              "\n",
              "    .dataframe tbody tr th {\n",
              "        vertical-align: top;\n",
              "    }\n",
              "\n",
              "    .dataframe thead th {\n",
              "        text-align: right;\n",
              "    }\n",
              "</style>\n",
              "<table border=\"1\" class=\"dataframe\">\n",
              "  <thead>\n",
              "    <tr style=\"text-align: right;\">\n",
              "      <th></th>\n",
              "      <th>0</th>\n",
              "      <th>1</th>\n",
              "      <th>2</th>\n",
              "      <th>3</th>\n",
              "      <th>4</th>\n",
              "    </tr>\n",
              "  </thead>\n",
              "  <tbody>\n",
              "    <tr>\n",
              "      <th>0</th>\n",
              "      <td>Unnamed: 0</td>\n",
              "      <td>Var1</td>\n",
              "      <td>Var2</td>\n",
              "      <td>Var3</td>\n",
              "      <td>Var4</td>\n",
              "    </tr>\n",
              "    <tr>\n",
              "      <th>1</th>\n",
              "      <td>10m07</td>\n",
              "      <td>0.026813</td>\n",
              "      <td>2.625</td>\n",
              "      <td>3.363693</td>\n",
              "      <td>0.061665</td>\n",
              "    </tr>\n",
              "    <tr>\n",
              "      <th>2</th>\n",
              "      <td>10m08</td>\n",
              "      <td>0.036764</td>\n",
              "      <td>1.888</td>\n",
              "      <td>3.130242</td>\n",
              "      <td>0.052624</td>\n",
              "    </tr>\n",
              "    <tr>\n",
              "      <th>3</th>\n",
              "      <td>10m09</td>\n",
              "      <td>0.044732</td>\n",
              "      <td>1.308</td>\n",
              "      <td>3.210488</td>\n",
              "      <td>0.042574</td>\n",
              "    </tr>\n",
              "    <tr>\n",
              "      <th>4</th>\n",
              "      <td>10m10</td>\n",
              "      <td>0.0527</td>\n",
              "      <td>1.361</td>\n",
              "      <td>3.240395</td>\n",
              "      <td>0.047561</td>\n",
              "    </tr>\n",
              "    <tr>\n",
              "      <th>5</th>\n",
              "      <td>10m11</td>\n",
              "      <td>0.059676</td>\n",
              "      <td>3.618</td>\n",
              "      <td>3.290428</td>\n",
              "      <td>0.074203</td>\n",
              "    </tr>\n",
              "    <tr>\n",
              "      <th>6</th>\n",
              "      <td>10m12</td>\n",
              "      <td>0.055668</td>\n",
              "      <td>3.813</td>\n",
              "      <td>3.366655</td>\n",
              "      <td>0.103762</td>\n",
              "    </tr>\n",
              "  </tbody>\n",
              "</table>\n",
              "</div>\n",
              "      <button class=\"colab-df-convert\" onclick=\"convertToInteractive('df-bc51fe52-65ab-4229-bf19-d033a99c9db6')\"\n",
              "              title=\"Convert this dataframe to an interactive table.\"\n",
              "              style=\"display:none;\">\n",
              "        \n",
              "  <svg xmlns=\"http://www.w3.org/2000/svg\" height=\"24px\"viewBox=\"0 0 24 24\"\n",
              "       width=\"24px\">\n",
              "    <path d=\"M0 0h24v24H0V0z\" fill=\"none\"/>\n",
              "    <path d=\"M18.56 5.44l.94 2.06.94-2.06 2.06-.94-2.06-.94-.94-2.06-.94 2.06-2.06.94zm-11 1L8.5 8.5l.94-2.06 2.06-.94-2.06-.94L8.5 2.5l-.94 2.06-2.06.94zm10 10l.94 2.06.94-2.06 2.06-.94-2.06-.94-.94-2.06-.94 2.06-2.06.94z\"/><path d=\"M17.41 7.96l-1.37-1.37c-.4-.4-.92-.59-1.43-.59-.52 0-1.04.2-1.43.59L10.3 9.45l-7.72 7.72c-.78.78-.78 2.05 0 2.83L4 21.41c.39.39.9.59 1.41.59.51 0 1.02-.2 1.41-.59l7.78-7.78 2.81-2.81c.8-.78.8-2.07 0-2.86zM5.41 20L4 18.59l7.72-7.72 1.47 1.35L5.41 20z\"/>\n",
              "  </svg>\n",
              "      </button>\n",
              "      \n",
              "  <style>\n",
              "    .colab-df-container {\n",
              "      display:flex;\n",
              "      flex-wrap:wrap;\n",
              "      gap: 12px;\n",
              "    }\n",
              "\n",
              "    .colab-df-convert {\n",
              "      background-color: #E8F0FE;\n",
              "      border: none;\n",
              "      border-radius: 50%;\n",
              "      cursor: pointer;\n",
              "      display: none;\n",
              "      fill: #1967D2;\n",
              "      height: 32px;\n",
              "      padding: 0 0 0 0;\n",
              "      width: 32px;\n",
              "    }\n",
              "\n",
              "    .colab-df-convert:hover {\n",
              "      background-color: #E2EBFA;\n",
              "      box-shadow: 0px 1px 2px rgba(60, 64, 67, 0.3), 0px 1px 3px 1px rgba(60, 64, 67, 0.15);\n",
              "      fill: #174EA6;\n",
              "    }\n",
              "\n",
              "    [theme=dark] .colab-df-convert {\n",
              "      background-color: #3B4455;\n",
              "      fill: #D2E3FC;\n",
              "    }\n",
              "\n",
              "    [theme=dark] .colab-df-convert:hover {\n",
              "      background-color: #434B5C;\n",
              "      box-shadow: 0px 1px 3px 1px rgba(0, 0, 0, 0.15);\n",
              "      filter: drop-shadow(0px 1px 2px rgba(0, 0, 0, 0.3));\n",
              "      fill: #FFFFFF;\n",
              "    }\n",
              "  </style>\n",
              "\n",
              "      <script>\n",
              "        const buttonEl =\n",
              "          document.querySelector('#df-bc51fe52-65ab-4229-bf19-d033a99c9db6 button.colab-df-convert');\n",
              "        buttonEl.style.display =\n",
              "          google.colab.kernel.accessAllowed ? 'block' : 'none';\n",
              "\n",
              "        async function convertToInteractive(key) {\n",
              "          const element = document.querySelector('#df-bc51fe52-65ab-4229-bf19-d033a99c9db6');\n",
              "          const dataTable =\n",
              "            await google.colab.kernel.invokeFunction('convertToInteractive',\n",
              "                                                     [key], {});\n",
              "          if (!dataTable) return;\n",
              "\n",
              "          const docLinkHtml = 'Like what you see? Visit the ' +\n",
              "            '<a target=\"_blank\" href=https://colab.research.google.com/notebooks/data_table.ipynb>data table notebook</a>'\n",
              "            + ' to learn more about interactive tables.';\n",
              "          element.innerHTML = '';\n",
              "          dataTable['output_type'] = 'display_data';\n",
              "          await google.colab.output.renderOutput(dataTable, element);\n",
              "          const docLink = document.createElement('div');\n",
              "          docLink.innerHTML = docLinkHtml;\n",
              "          element.appendChild(docLink);\n",
              "        }\n",
              "      </script>\n",
              "    </div>\n",
              "  </div>\n",
              "  "
            ]
          },
          "metadata": {},
          "execution_count": 58
        }
      ]
    },
    {
      "cell_type": "code",
      "source": [
        "header = data_copy.columns\n",
        "print(header)"
      ],
      "metadata": {
        "colab": {
          "base_uri": "https://localhost:8080/"
        },
        "id": "uWjXIKKMfBZE",
        "outputId": "411427e7-d635-4e7b-dda3-92008940a49d"
      },
      "execution_count": null,
      "outputs": [
        {
          "output_type": "stream",
          "name": "stdout",
          "text": [
            "Index(['Unnamed: 0', 'Var1', 'Var2', 'Var3', 'Var4'], dtype='object')\n"
          ]
        }
      ]
    },
    {
      "cell_type": "markdown",
      "source": [
        "# Нэйросэть"
      ],
      "metadata": {
        "id": "JPQ1DyV6PrRZ"
      }
    },
    {
      "cell_type": "code",
      "source": [
        "a = [f for f in a if f != 'Forecast']"
      ],
      "metadata": {
        "id": "PyKRJm3rR4gj"
      },
      "execution_count": null,
      "outputs": []
    },
    {
      "cell_type": "code",
      "source": [
        "# demonstrate prediction\n",
        "x_input = array([53.0, 60.0, 57.0,65.0])\n",
        "x_input = x_input.reshape((1, n_seq, 1, n_steps, n_features))\n",
        "yhat = model.predict(x_input, verbose=0)\n",
        "print(yhat)"
      ],
      "metadata": {
        "colab": {
          "base_uri": "https://localhost:8080/"
        },
        "id": "WXrbF3t1Y1pw",
        "outputId": "b5940e85-ccfc-4d00-dc4d-f677734ebdd3"
      },
      "execution_count": null,
      "outputs": [
        {
          "output_type": "stream",
          "name": "stdout",
          "text": [
            "[[63.59119]]\n"
          ]
        }
      ]
    },
    {
      "cell_type": "code",
      "source": [
        "kolvo = 3\n",
        "x_input = array([53.0, 60.0, 57.0,65.0])\n",
        "for j in range(kolvo):\n",
        "  x_pred = x_input.reshape((1, n_seq, 1, n_steps, n_features))\n",
        "  c = list(x_input)\n",
        "  yhat = model.predict(x_input, verbose=0)\n",
        "  c.append(e)\n",
        "  c.pop(0)\n",
        "  x_input=array(c)"
      ],
      "metadata": {
        "colab": {
          "base_uri": "https://localhost:8080/",
          "height": 235
        },
        "id": "Q_FYh7I6owPj",
        "outputId": "dc524989-9463-4322-d8eb-f3f93ed9a887"
      },
      "execution_count": null,
      "outputs": [
        {
          "output_type": "error",
          "ename": "ValueError",
          "evalue": "ignored",
          "traceback": [
            "\u001b[0;31m---------------------------------------------------------------------------\u001b[0m",
            "\u001b[0;31mValueError\u001b[0m                                Traceback (most recent call last)",
            "\u001b[0;32m<ipython-input-142-c8f611d595e4>\u001b[0m in \u001b[0;36m<module>\u001b[0;34m\u001b[0m\n\u001b[1;32m      2\u001b[0m \u001b[0mx_input\u001b[0m \u001b[0;34m=\u001b[0m \u001b[0marray\u001b[0m\u001b[0;34m(\u001b[0m\u001b[0;34m[\u001b[0m\u001b[0;36m53.0\u001b[0m\u001b[0;34m,\u001b[0m \u001b[0;36m60.0\u001b[0m\u001b[0;34m,\u001b[0m \u001b[0;36m57.0\u001b[0m\u001b[0;34m,\u001b[0m\u001b[0;36m65.0\u001b[0m\u001b[0;34m]\u001b[0m\u001b[0;34m)\u001b[0m\u001b[0;34m\u001b[0m\u001b[0;34m\u001b[0m\u001b[0m\n\u001b[1;32m      3\u001b[0m \u001b[0;32mfor\u001b[0m \u001b[0mj\u001b[0m \u001b[0;32min\u001b[0m \u001b[0mrange\u001b[0m\u001b[0;34m(\u001b[0m\u001b[0mkolvo\u001b[0m\u001b[0;34m)\u001b[0m\u001b[0;34m:\u001b[0m\u001b[0;34m\u001b[0m\u001b[0;34m\u001b[0m\u001b[0m\n\u001b[0;32m----> 4\u001b[0;31m   \u001b[0mx_pred\u001b[0m \u001b[0;34m=\u001b[0m \u001b[0mx_input\u001b[0m\u001b[0;34m.\u001b[0m\u001b[0mreshape\u001b[0m\u001b[0;34m(\u001b[0m\u001b[0;34m(\u001b[0m\u001b[0;36m1\u001b[0m\u001b[0;34m,\u001b[0m \u001b[0mn_seq\u001b[0m\u001b[0;34m,\u001b[0m \u001b[0;36m1\u001b[0m\u001b[0;34m,\u001b[0m \u001b[0mn_steps\u001b[0m\u001b[0;34m,\u001b[0m \u001b[0mn_features\u001b[0m\u001b[0;34m)\u001b[0m\u001b[0;34m)\u001b[0m\u001b[0;34m\u001b[0m\u001b[0;34m\u001b[0m\u001b[0m\n\u001b[0m\u001b[1;32m      5\u001b[0m   \u001b[0mc\u001b[0m \u001b[0;34m=\u001b[0m \u001b[0mlist\u001b[0m\u001b[0;34m(\u001b[0m\u001b[0mx_input\u001b[0m\u001b[0;34m)\u001b[0m\u001b[0;34m\u001b[0m\u001b[0;34m\u001b[0m\u001b[0m\n\u001b[1;32m      6\u001b[0m   \u001b[0myhat\u001b[0m \u001b[0;34m=\u001b[0m \u001b[0mmodel\u001b[0m\u001b[0;34m.\u001b[0m\u001b[0mpredict\u001b[0m\u001b[0;34m(\u001b[0m\u001b[0mx_input\u001b[0m\u001b[0;34m,\u001b[0m \u001b[0mverbose\u001b[0m\u001b[0;34m=\u001b[0m\u001b[0;36m0\u001b[0m\u001b[0;34m)\u001b[0m\u001b[0;34m\u001b[0m\u001b[0;34m\u001b[0m\u001b[0m\n",
            "\u001b[0;31mValueError\u001b[0m: cannot reshape array of size 4 into shape (1,2,1,3,1)"
          ]
        }
      ]
    },
    {
      "cell_type": "code",
      "source": [
        "yhat = model.predict(x_input, verbose=0)"
      ],
      "metadata": {
        "id": "4p7nHCWutBaS"
      },
      "execution_count": null,
      "outputs": []
    },
    {
      "cell_type": "markdown",
      "source": [
        "зависимость "
      ],
      "metadata": {
        "id": "ItOGrK5ou_ZP"
      }
    },
    {
      "cell_type": "code",
      "source": [
        "val = numpy_data[1:120, 1]\n",
        "import numpy as np\n",
        "a = val\n",
        "a =list(a)\n",
        "a = [f for f in a if f != 'Forecast']\n",
        "val2 = numpy_data[30:120, 2]\n",
        "import numpy as np\n",
        "a2 = val2\n",
        "a2 =list(a2)\n",
        "a2 = [f for f in a2 if f != 'Forecast']\n",
        "val3 = numpy_data[1:120, 3]\n",
        "import numpy as np\n",
        "a3 = val3\n",
        "a3 =list(a2)\n",
        "a3 = [f for f in a3 if f != 'Forecast']"
      ],
      "metadata": {
        "id": "UhfCm-GhBBbl"
      },
      "execution_count": null,
      "outputs": []
    },
    {
      "cell_type": "code",
      "source": [
        "# multivariate multi-step encoder-decoder lstm example\n",
        "from numpy import array\n",
        "from numpy import hstack\n",
        "from keras.models import Sequential\n",
        "from keras.layers import LSTM\n",
        "from keras.layers import Dense\n",
        "from keras.layers import RepeatVector\n",
        "from keras.layers import TimeDistributed\n",
        "\n",
        "# split a multivariate sequence into samples\n",
        "def split_sequences(sequences, n_steps_in, n_steps_out):\n",
        "\tX, y = list(), list()\n",
        "\tfor i in range(len(sequences)):\n",
        "\t\t# find the end of this pattern\n",
        "\t\tend_ix = i + n_steps_in\n",
        "\t\tout_end_ix = end_ix + n_steps_out\n",
        "\t\t# check if we are beyond the dataset\n",
        "\t\tif out_end_ix > len(sequences):\n",
        "\t\t\tbreak\n",
        "\t\t# gather input and output parts of the pattern\n",
        "\t\tseq_x, seq_y = sequences[i:end_ix, :], sequences[end_ix:out_end_ix, :]\n",
        "\t\tX.append(seq_x)\n",
        "\t\ty.append(seq_y)\n",
        "\treturn array(X), array(y)\n",
        "\n",
        "# define input sequence\n",
        "in_seq1 = array(a)\n",
        "in_seq2 = array(a2)\n",
        "out_seq = array(a3)\n",
        "# convert to [rows, columns] structure\n",
        "in_seq1 = in_seq1.reshape((len(in_seq1), 1))\n",
        "in_seq2 = in_seq2.reshape((len(in_seq2), 1))\n",
        "out_seq = out_seq.reshape((len(out_seq), 1))\n",
        "# horizontally stack columns\n",
        "dataset = hstack((in_seq1, in_seq2, out_seq))\n",
        "# choose a number of time steps\n",
        "n_steps_in, n_steps_out = 4, 4\n",
        "# covert into input/output\n",
        "X, y = split_sequences(dataset, n_steps_in, n_steps_out)\n",
        "# the dataset knows the number of features, e.g. 2\n",
        "n_features = X.shape[2]\n",
        "# define model\n",
        "model = Sequential()\n",
        "model.add(LSTM(200, activation='relu', input_shape=(n_steps_in, n_features)))\n",
        "model.add(RepeatVector(n_steps_out))\n",
        "model.add(LSTM(200, activation='relu', return_sequences=True))\n",
        "model.add(TimeDistributed(Dense(n_features)))\n",
        "model.compile(optimizer='adam', loss='mse')\n",
        "# fit model\n",
        "model.fit(X, y, epochs=300, verbose=0)\n"
      ],
      "metadata": {
        "id": "5CgAdDIPT88Y"
      },
      "execution_count": null,
      "outputs": []
    },
    {
      "cell_type": "code",
      "source": [
        "# demonstrate prediction\n",
        "t1= numpy_data[121:125, 1]\n",
        "t2= numpy_data[121:125, 2]\n",
        "t3= numpy_data[121:125, 3]\n",
        "x_1 = [t1[0],t2[0],t3[0]]\n",
        "x_2 = [t1[1],t2[1],t3[1]]\n",
        "x_3 = [t1[2],t2[2],t3[2]]\n",
        "x_4 = [t1[3],t2[3],t3[3]]\n",
        "print(x_1,x_2,x_3,x_4)"
      ],
      "metadata": {
        "colab": {
          "base_uri": "https://localhost:8080/"
        },
        "id": "OWLm117GXdtP",
        "outputId": "77b3af22-a756-45c6-df1a-0219a3daaa1f"
      },
      "execution_count": null,
      "outputs": [
        {
          "output_type": "stream",
          "name": "stdout",
          "text": [
            "[70.0, 89.0, 53.0] [73.0, 84.0, 56.0] [75.0, 88.0, 62.0] [63.0, 81.0, 71.0]\n"
          ]
        }
      ]
    },
    {
      "cell_type": "code",
      "source": [
        "\n",
        "x_input = array([x_1,x_2,x_3,x_4])\n",
        "x_input = x_input.reshape((1, n_steps_in, n_features))\n",
        "yhat = model.predict(x_input, verbose=0)\n",
        "print(yhat)"
      ],
      "metadata": {
        "colab": {
          "base_uri": "https://localhost:8080/"
        },
        "id": "MvXLrgezUgzJ",
        "outputId": "7aae24fb-af5b-42cb-b911-908de10d4362"
      },
      "execution_count": null,
      "outputs": [
        {
          "output_type": "stream",
          "name": "stdout",
          "text": [
            "[[[51.91063  75.498314 79.408035]\n",
            "  [49.61627  78.1361   73.77707 ]\n",
            "  [43.358624 75.09168  69.631836]\n",
            "  [42.24751  71.53613  62.429417]]]\n"
          ]
        }
      ]
    },
    {
      "cell_type": "markdown",
      "source": [
        "# Нейросеть на ежемесячные данные"
      ],
      "metadata": {
        "id": "1F5_p4P_w5Cq"
      }
    },
    {
      "cell_type": "code",
      "source": [
        "g = load_train('/content/Train.xlsx')\n",
        "n = np.array(g)\n",
        "b = []\n",
        "for i in range(69):\n",
        "  val = g[i][30:147]\n",
        "  a =list(val)\n",
        "  b.append(a)\n",
        "c = []\n",
        "\n",
        "for i in b:\n",
        "  c.append(np.array(i))\n",
        "for i in range(len(c)):\n",
        "  c[i] = c[i].reshape((len(c[i]), 1))\n"
      ],
      "metadata": {
        "id": "HnHL_DAaw4Yy",
        "colab": {
          "base_uri": "https://localhost:8080/"
        },
        "outputId": "89aa9724-9cbc-4a38-d7d7-ab4c325c03c1"
      },
      "execution_count": null,
      "outputs": [
        {
          "output_type": "stream",
          "name": "stdout",
          "text": [
            "<class 'float'>\n",
            "69\n"
          ]
        }
      ]
    },
    {
      "cell_type": "markdown",
      "source": [
        "# Многофакторная LSTM с кодером-декодером"
      ],
      "metadata": {
        "id": "KjpuZhwK0JHZ"
      }
    },
    {
      "cell_type": "code",
      "source": [
        "from numpy import array\n",
        "from numpy import hstack\n",
        "from keras.models import Sequential\n",
        "from keras.layers import LSTM\n",
        "from keras.layers import Dense\n",
        "from keras.layers import RepeatVector\n",
        "from keras.layers import TimeDistributed\n",
        "\n",
        "# split a multivariate sequence into samples\n",
        "def split_sequences(sequences, n_steps_in, n_steps_out):\n",
        "\tx, y = list(), list()\n",
        "\tfor i in range(len(sequences)):\n",
        "\t\t# find the end of this pattern\n",
        "\t\tend_ix = i + n_steps_in\n",
        "\t\tout_end_ix = end_ix + n_steps_out\n",
        "\t\t# check if we are beyond the dataset\n",
        "\t\tif out_end_ix > len(sequences):\n",
        "\t\t\tbreak\n",
        "\t\t# gather input and output parts of the pattern\n",
        "\t\tseq_x, seq_y = sequences[i:end_ix, :], sequences[end_ix:out_end_ix, :]\n",
        "\t\tx.append(seq_x)\n",
        "\t\ty.append(seq_y)\n",
        "\treturn array(X), array(y)\n",
        "\n",
        "\n",
        "\n",
        "# horizontally stack columns\n",
        "dataset = hstack(c)\n",
        "# choose a number of time steps\n",
        "n_steps_in, n_steps_out = 10, 5\n",
        "# covert into input/output\n",
        "X, y = split_sequences(dataset, n_steps_in, n_steps_out)\n",
        "# the dataset knows the number of features, e.g. 2\n",
        "n_features = X.shape[2]\n"
      ],
      "metadata": {
        "id": "XWbjdIsgxUUB"
      },
      "execution_count": null,
      "outputs": []
    },
    {
      "cell_type": "code",
      "source": [
        "model = Sequential()\n",
        "model.add(LSTM(200, activation='relu', input_shape=(n_steps_in, n_features)))\n",
        "model.add(RepeatVector(n_steps_out))\n",
        "model.add(LSTM(200, activation='relu', return_sequences=True))\n",
        "model.add(TimeDistributed(Dense(n_features)))\n",
        "model.compile(optimizer='adam', loss='mse')"
      ],
      "metadata": {
        "id": "eD9BIZh9xWra"
      },
      "execution_count": null,
      "outputs": []
    },
    {
      "cell_type": "code",
      "source": [
        "model.fit(X, y, epochs=500, verbose=0)"
      ],
      "metadata": {
        "id": "UQi4B4hJ4rCN",
        "colab": {
          "base_uri": "https://localhost:8080/"
        },
        "outputId": "7ec6fb5a-3ea9-4898-fc77-75728d7f11fe"
      },
      "execution_count": null,
      "outputs": [
        {
          "output_type": "execute_result",
          "data": {
            "text/plain": [
              "<keras.callbacks.History at 0x7f0e1f497e10>"
            ]
          },
          "metadata": {},
          "execution_count": 296
        }
      ]
    },
    {
      "cell_type": "code",
      "source": [
        "#заргузка из датасета\n",
        "numpy_data = load_train('/content/Train.xlsx')\n",
        "b =[]\n",
        "# c = []\n",
        "for i in range(69):\n",
        "  val = numpy_data[i][137:147]\n",
        "  a =list(val)\n",
        "  b.append(a)\n",
        "c = []\n",
        "# define input sequence\n",
        "for i in b:\n",
        "  c.append(np.array(i))\n"
      ],
      "metadata": {
        "id": "uAP3Z0Pa4-Vo"
      },
      "execution_count": null,
      "outputs": []
    },
    {
      "cell_type": "code",
      "source": [
        "c"
      ],
      "metadata": {
        "colab": {
          "base_uri": "https://localhost:8080/"
        },
        "id": "nekhWroF6kwR",
        "outputId": "bf85062f-edfe-4537-a8fb-788004d76281"
      },
      "execution_count": null,
      "outputs": [
        {
          "output_type": "execute_result",
          "data": {
            "text/plain": [
              "[array([63., 63., 58., 63., 67., 63., 66., 81., 78., 85.]),\n",
              " array([84., 84., 79., 80., 83., 77., 87., 92., 95., 91.]),\n",
              " array([61., 62., 63., 63., 54., 57., 49., 48., 49., 57.]),\n",
              " array([45., 42., 41., 38., 40., 45., 40., 38., 36., 38.]),\n",
              " array([63., 55., 55., 56., 48., 45., 45., 31., 32., 38.]),\n",
              " array([34., 36., 32., 34., 36., 42., 27., 30., 22., 30.]),\n",
              " array([58., 56., 55., 61., 51., 57., 50., 36., 38., 40.]),\n",
              " array([60., 61., 58., 62., 56., 52., 45., 41., 42., 45.]),\n",
              " array([16., 30., 24., 26., 23., 19., 24., 26., 28., 24.]),\n",
              " array([6.80682936, 6.84374995, 6.85012617, 7.00760061, 7.12125245,\n",
              "        7.25911613, 7.38770924, 6.85329909, 6.85646198, 6.93731408]),\n",
              " array([8.10440131, 8.0836372 , 8.00636757, 7.8860814 , 7.74283596,\n",
              "        7.60688453, 7.62510715, 7.51806418, 7.55538194, 7.72753511]),\n",
              " array([8.25452888, 8.25035895, 8.23270601, 8.15679705, 8.14612951,\n",
              "        8.06746267, 8.1131271 , 8.13211877, 8.00936308, 8.14931284]),\n",
              " array([6.02053779, 6.02053779, 6.01956598, 6.03524217, 6.08745631,\n",
              "        6.06238889, 6.09334401, 6.05326495, 5.97049624, 6.07511612]),\n",
              " array([5.99446006, 5.99146455, 5.99246405, 6.00561397, 6.05818818,\n",
              "        6.03691581, 6.06819408, 6.03476347, 5.94699006, 6.0530299 ]),\n",
              " array([4.61412993, 4.63957161, 4.66626529, 4.65681342, 4.68213123,\n",
              "        4.64053733, 4.64053733, 4.57264699, 4.52936847, 4.63666885]),\n",
              " array([7.08606881, 6.98665888, 7.07225225, 7.11663762, 7.31840691,\n",
              "        7.28673951, 7.85232244, 6.24784943, 6.52458968, 6.63607778]),\n",
              " array([1.36185379, 1.2762959 , 1.31935539, 1.37668045, 1.559835  ,\n",
              "        1.50220588, 2.01022758, 0.43034847, 0.68653988, 0.82543187]),\n",
              " array([6.34335305, 6.34335305, 6.35036202, 6.42194742, 6.40224882,\n",
              "        6.39776264, 6.70649552, 5.7209673 , 5.88164968, 6.1132396 ]),\n",
              " array([1.91692261, 1.75785792, 1.74046617, 2.00148   , 2.06686276,\n",
              "        2.06686276, 2.98568194, 1.82454929, 1.80828877, 1.84054963]),\n",
              " array([1.43550028, 1.56477262, 1.4560732 , 1.37160405, 1.45869875,\n",
              "        1.33540054, 1.37269632, 1.06072156, 1.11331401, 1.22574944]),\n",
              " array([1.72820947, 1.81438716, 1.67167086, 1.70122966, 1.72981712,\n",
              "        1.58015635, 1.63842525, 0.93926   , 1.17670086, 1.27925745]),\n",
              " array([1.47536976, 1.3349576 , 1.30140082, 1.31924074, 1.3680309 ,\n",
              "        1.3406597 , 1.44050504, 0.95923822, 1.19114327, 1.19114327]),\n",
              " array([1.28913639, 1.25764573, 1.16772102, 1.23257199, 1.11040436,\n",
              "        1.00504384, 0.91402444, 0.40818636, 0.49711257, 0.65069166]),\n",
              " array([3.51541853, 3.57599067, 3.60902423, 3.67351198, 3.770229  ,\n",
              "        3.89832968, 4.0299838 , 4.2330915 , 4.11529033, 4.06834276]),\n",
              " array([3.8249389 , 3.8691155 , 3.88424062, 3.91102251, 4.00076622,\n",
              "        4.11757269, 4.22449525, 4.35811809, 4.22960363, 4.14899056]),\n",
              " array([   35. ,   300.2,   123.9,    30.6,    47.4,   -41.5, -2393.8,\n",
              "         -171.7,  -662.4,   386.8]),\n",
              " array([7.65860517, 7.69266088, 7.7248001 , 7.71481133, 7.74539234,\n",
              "        7.75944349, 7.99118625, 7.62525355, 7.61253454, 7.69416509]),\n",
              " array([0.92440965, 0.95493885, 0.98449765, 0.96836827, 0.99012976,\n",
              "        0.99112926, 1.19976813, 0.7948029 , 0.75710103, 0.82288877]),\n",
              " array([6.91104985, 6.94119006, 6.96772086, 6.95110208, 6.98896653,\n",
              "        7.00115454, 7.21700313, 6.90875478, 6.90745523, 6.9907168 ]),\n",
              " array([0.7372886 , 0.76490377, 0.79251893, 0.76822624, 0.79486817,\n",
              "        0.786836  , 0.97331557, 0.61377939, 0.5812562 , 0.64797983]),\n",
              " array([7.01705801, 7.05462235, 7.09174212, 7.08757371, 7.11175678,\n",
              "        7.1274529 , 7.37299759, 6.95492508, 6.93117879, 7.01121399]),\n",
              " array([1.09302327, 1.12549046, 1.15698913, 1.14693879, 1.16477871,\n",
              "        1.17373845, 1.40087402, 0.9561482 , 0.9132407 , 0.97809167]),\n",
              " array([6.79671198, 6.80317224, 6.80826638, 6.83851238, 6.86922233,\n",
              "        6.91681412, 7.03174126, 6.90775528, 6.91661591, 6.94947287]),\n",
              " array([1.18818096, 1.19117647, 1.19317448, 1.216891  , 1.23865249,\n",
              "        1.27401964, 1.36568683, 1.19726818, 1.1791042 , 1.19596132]),\n",
              " array([33., 33., 32., 34., 34., 34., 29., 36., 36., 35.]),\n",
              " array([0.42728918, 0.43227673, 0.4382588 , 0.44424087, 0.4541912 ,\n",
              "        0.4541912 , 0.517166  , 0.39046835, 0.39346385, 0.43075964]),\n",
              " array([1.03127005, 1.03625759, 1.03825559, 1.04523121, 1.05319938,\n",
              "        1.0661156 , 1.09178335, 1.13004206, 1.15180355, 1.16373212]),\n",
              " array([1.09956824, 1.09756624, 1.0925537 , 1.10349364, 1.11640986,\n",
              "        1.13914935, 1.17548128, 1.2356352 , 1.27100235, 1.28687569]),\n",
              " array([0.7406264 , 0.74461842, 0.74960596, 0.75558803, 0.7615701 ,\n",
              "        0.76755217, 0.79029166, 0.82179033, 0.84257287, 0.85647577]),\n",
              " array([1.37279252, 1.38669542, 1.39367104, 1.39666655, 1.40264862,\n",
              "        1.41457719, 1.43633868, 1.45810017, 1.46606834, 1.46906385]),\n",
              " array([1.9123572 , 1.9113567 , 1.84628471, 1.78227938, 1.80989454,\n",
              "        1.72542539, 1.71234015, 1.6376166 , 1.65250521, 1.95851824]),\n",
              " array([1.3408143 , 1.35668765, 1.36167519, 1.36167519, 1.37754854,\n",
              "        1.38154056, 1.3905003 , 1.41616805, 1.41616805, 1.44086066]),\n",
              " array([2.11440465, 2.23396389, 2.24688011, 2.24688011, 2.16458487,\n",
              "        2.16558437, 2.26180323, 2.1977979 , 2.10787319, 2.10185512]),\n",
              " array([1.23770525, 1.29503032, 1.32167225, 1.34636486, 1.35035688,\n",
              "        1.3342275 , 1.15629629, 1.1592918 , 1.1582913 , 1.23710248]),\n",
              " array([1.44010735, 1.43207518, 1.42202484, 1.42202484, 1.43395341,\n",
              "        1.45179333, 1.43870809, 1.4417036 , 1.45066334, 1.50420411]),\n",
              " array([1.21737104, 1.20933887, 1.22816062, 1.25090011, 1.20590274,\n",
              "        1.0994305 , 0.93101185, 0.67869692, 0.91534882, 1.0850916 ]),\n",
              " array([1.04257773, 1.05943484, 1.07037478, 1.0950674 , 1.11192451,\n",
              "        1.12187484, 1.15530962, 1.17511225, 1.18704082, 1.18403631]),\n",
              " array([1.13046993, 1.13545748, 1.14143955, 1.14742162, 1.15737195,\n",
              "        1.16831189, 1.18221479, 1.20788254, 1.24902448, 1.2882452 ]),\n",
              " array([0.78932503, 0.84001814, 0.88499151, 0.93092044, 0.94876036,\n",
              "        0.95474243, 0.95773794, 0.97655969, 0.98848826, 0.9713421 ]),\n",
              " array([1.28013948, 1.24864882, 1.23758787, 1.24555604, 1.27317121,\n",
              "        1.30466987, 1.33325733, 1.35207909, 1.36598199, 1.3729576 ]),\n",
              " array([0.66694905, 0.78295273, 0.74004522, 0.76668716, 0.79818582,\n",
              "        0.88344567, 1.0188503 , 1.07711921, 1.10667801, 1.10065994]),\n",
              " array([1.07675391, 1.08472208, 1.09862498, 1.09862498, 1.10162049,\n",
              "        1.10958866, 1.1303712 , 1.15798637, 1.17876891, 1.1534511 ]),\n",
              " array([1.20956591, 1.21256142, 1.22646433, 1.24135294, 1.23935094,\n",
              "        1.24632655, 1.24632655, 1.24332204, 1.27385125, 1.23511042]),\n",
              " array([1.3620554 , 1.40702877, 1.41598851, 1.41898402, 1.36663754,\n",
              "        1.37062956, 1.38354578, 1.4227665 , 1.43469507, 1.43369457]),\n",
              " array([4.9, 4.9, 4.8, 4.9, 5.1, 5.2, 5.3, 5.5, 5.8, 5.9]),\n",
              " array([30.41724618, 30.4432133 , 29.32320442, 28.37273992, 26.41666667,\n",
              "        23.7150838 , 19.55182073, 18.24512535, 16.97478992, 16.9273743 ]),\n",
              " array([ 46.9,  46.8,  48. ,  48.4,  51.8,  59.7,  73.4,  85.9,  99.7,\n",
              "        100.7]),\n",
              " array([10.42602433, 10.3894568 , 10.33406795, 10.37126997, 10.38711668,\n",
              "        10.39040975, 10.64865776, 10.33944953, 10.35217178, 10.39335508]),\n",
              " array([0.99715036, 0.95528615, 0.89765704, 0.92818624, 0.93714598,\n",
              "        0.92709565, 1.16216777, 0.82389391, 0.8168693 , 0.85030407]),\n",
              " array([9.29450687, 9.29391836, 9.29511341, 9.29629786, 9.29749007,\n",
              "        9.29649054, 9.29548083, 9.29824135, 9.39641322, 9.39876825]),\n",
              " array([0.97994456, 0.97493202, 0.97393151, 0.96891897, 0.96189436,\n",
              "        0.94779543, 0.92042424, 0.88583279, 0.96186748, 0.95181714]),\n",
              " array([ 8.234,  8.172,  7.877,  7.948,  8.24 , 10.211, 15.469, 16.965,\n",
              "        15.117, 14.902]),\n",
              " array([23.912, 23.283, 23.816, 23.933, 24.371, 24.594, 24.818, 29.08 ,\n",
              "        28.728, 27.306]),\n",
              " array([17.527, 17.531, 17.386, 17.661, 17.599, 17.723, 17.367, 19.463,\n",
              "        20.507, 21.831]),\n",
              " array([10.684, 10.688, 10.565, 10.622, 10.793, 11.969, 18.31 , 19.864,\n",
              "        18.138, 17.913]),\n",
              " array([11.671, 11.918, 11.831, 12.051, 12.238, 12.556, 12.94 , 15.089,\n",
              "        16.361, 16.451]),\n",
              " array([8.76484983, 8.77975744, 8.79794128, 8.79399125, 8.82903603,\n",
              "        8.85799888, 8.86921533, 8.91004576, 8.92369776, 8.92676984]),\n",
              " array([ 9.80458392,  9.82818733,  9.8384956 ,  9.8731572 ,  9.91072133,\n",
              "         9.96172344, 10.01978059, 10.08795264, 10.03413416, 10.00946788]),\n",
              " array([4.69070547, 4.65776264, 4.61601121, 4.56268013, 4.45875617,\n",
              "        4.36093067, 4.11202075, 3.84117126, 4.04830062, 3.99875101])]"
            ]
          },
          "metadata": {},
          "execution_count": 85
        }
      ]
    },
    {
      "cell_type": "code",
      "source": [
        "x_input = array(c)\n",
        "x_input = x_input.reshape((1, n_steps_in, n_features))"
      ],
      "metadata": {
        "id": "NPhxDl4SuvuB"
      },
      "execution_count": null,
      "outputs": []
    },
    {
      "cell_type": "code",
      "source": [
        "yhat = model.predict(x_input, verbose=0)"
      ],
      "metadata": {
        "id": "FDnO1qV7q3zz"
      },
      "execution_count": null,
      "outputs": []
    },
    {
      "cell_type": "code",
      "source": [
        "from math import exp\n",
        "from statistics import variance as var\n",
        "from random import random\n",
        "data_1 = [[j for j in range(24)] for i in range(5)]\n",
        "data_2 = [[j + 1 + random() for j in range(24)] for i in range(5)]\n",
        "\n",
        "def scoring(real_data, predicted_data, n):\n",
        "    '''\n",
        "    real_data: фактические значения\n",
        "    predicted_data: предсказанные\n",
        "    n: сколько предсказывали\n",
        "    '''\n",
        "    x = [real_data[i][-n:] for i in range(len(real_data))]\n",
        "    x_hat = [predicted_data[i][-n:] for i in range(len(predicted_data))]\n",
        "    M = len(real_data)\n",
        "    # M = real_data.shape[0]\n",
        "    alpha = 12\n",
        "    # Количество точек для прогнозирования\n",
        "    Km = [sum(x[i]) for i in range(len(x))]\n",
        "\n",
        "    Nm = len(real_data)\n",
        "    # Горизонт прогнозирования\n",
        "    Hm = n\n",
        "    \n",
        "    Dm = [var([predicted_data[j][i] - predicted_data[j][i-12] for i in range(len(predicted_data[j]) - n, len(predicted_data[j]))]) for j in range(len(predicted_data))]\n",
        "\n",
        "    WMSFEm = [1 / Km[k] * (sum([sum([(x[i][h] - x_hat[i][h])**2 / (h*Dm[i]) for h in range(1,Hm)]) for i in range(Nm)])) for k in range(len(Km))]\n",
        "    Score = 1 / M * sum(WMSFEm)\n",
        "    return Score\n",
        "\n"
      ],
      "metadata": {
        "id": "q7NIGlr8_QVG"
      },
      "execution_count": null,
      "outputs": []
    },
    {
      "cell_type": "code",
      "source": [
        "#заргузка из датасета\n",
        "b =[]\n",
        "numpy_data = load_train('/content/Train.xlsx')\n",
        "for i in range(69):\n",
        "  val = numpy_data[i][30:152]\n",
        "  a =list(val)\n",
        "  b.append(a)\n",
        "real_data = []\n",
        "# define input sequence\n",
        "for i in b:\n",
        "  real_data.append(array(i))"
      ],
      "metadata": {
        "id": "AWH8gC_3AzYc"
      },
      "execution_count": null,
      "outputs": []
    },
    {
      "cell_type": "code",
      "source": [
        "#заргузка из датасета\n",
        "b =[]\n",
        "predicted_data = []\n",
        "for i in range(69):\n",
        "  val = numpy_data[30:147, i+1]\n",
        "  a =list(val)\n",
        "  b.append(a)\n",
        "predicted_data = []\n",
        "# define input sequence\n",
        "for i in b:\n",
        "  predicted_data.append(array(i))"
      ],
      "metadata": {
        "id": "78di7a1MZKAC"
      },
      "execution_count": null,
      "outputs": []
    },
    {
      "cell_type": "markdown",
      "source": [
        "# Решающий лес"
      ],
      "metadata": {
        "id": "0RCbwoA4eshs"
      }
    },
    {
      "cell_type": "code",
      "source": [
        "# Регрессионный анализ и поиск, к какому столбцу тренировочного множества\n",
        "# наиболее вероятно относится столбец в тестовом, с помощью\n",
        "# коэффициента детерминации\n",
        "\n",
        "from scipy import stats\n",
        "\n",
        "\n",
        "def get_column(base, array):\n",
        "    determination = {}\n",
        "    for i, k in enumerate(array):\n",
        "        for j, n in enumerate(base):\n",
        "            if len(k) != len(n):\n",
        "                n = n[:len(k)]\n",
        "            n, k = np.array(n), np.array(k)\n",
        "            \n",
        "            slope, intercept, r, p, se = stats.linregress(n.astype(float), k.astype(float))\n",
        "            determination[(i, j)] = r ** 2\n",
        "    what_column = []\n",
        "    for i in range(len(array)):\n",
        "        new_det = [determination[(i, j)] for j in range(len(base))]\n",
        "        what_column.append([i, new_det.index(max(new_det))])\n",
        "    return what_column\n",
        "\n",
        "\n",
        "base = load_train('/content/Train.xlsx')\n",
        "test, marker = load_test('/content/Test_example2.xlsx')\n",
        "columns = get_column(base, test)"
      ],
      "metadata": {
        "id": "Vd6Wo-9GZMJ6",
        "colab": {
          "base_uri": "https://localhost:8080/"
        },
        "outputId": "58efac16-ede7-4915-af4d-aa80efe0e1bb"
      },
      "execution_count": null,
      "outputs": [
        {
          "output_type": "stream",
          "name": "stdout",
          "text": [
            "[[0, 36], [1, 61], [2, 68], [3, 27]]\n"
          ]
        }
      ]
    },
    {
      "cell_type": "code",
      "source": [
        "import scipy as sp\n",
        "from sklearn.ensemble import RandomForestRegressor\n",
        "\n",
        "\n",
        "def check_crosscorr(array):\n",
        "    \n",
        "    array = [array[:min([len(i) for i in array])] for j in range(len(array))]\n",
        "    # print(array)\n",
        "    pearson_corr = []\n",
        "    pearson_p = [[0 for i in range(len(array))] for i in range(len(array))]\n",
        "    spearman_p = [[0 for i in range(len(array))] for i in range(len(array))]\n",
        "    for i, n in enumerate(array):\n",
        "        for j, k in enumerate(array):\n",
        "            print(type(n))\n",
        "            pearson_p[i][j] = sp.stats.pearsonr(n, k)[1]\n",
        "            spearman_p[i][j] = sp.stats.spearmanr(n, k)[1]\n",
        "    correlated_p = []\n",
        "    correlated_s = []\n",
        "    for i in range(len(pearson_p)):\n",
        "        for j in range(len(pearson_p[i])):\n",
        "            if pearson_p[i][j] < 0.05 and i != j:\n",
        "                if [j, i] not in correlated_p:\n",
        "                    correlated_p.append([i, j])\n",
        "    for i in range(len(spearman_p)):\n",
        "        for j in range(len(spearman_p[i])):\n",
        "            if spearman_p[i][j] < 0.05 and i != j:\n",
        "                if [j, i] not in correlated_s:\n",
        "                    correlated_s.append([i, j])\n",
        "\n",
        "    return correlated_p\n",
        "\n",
        "\n",
        "def mlmodels(table):\n",
        "    \n",
        "    model = RandomForestRegressor(n_estimators=100)\n",
        "    \n",
        "    prework = {}\n",
        "    crosscorr = check_crosscorr(table)\n",
        "    \n",
        "    for i, k in enumerate(table):\n",
        "        prework[i] = []\n",
        "        for j in crosscorr:\n",
        "            if i in j:\n",
        "                prework[i].append(j[:].pop(j.index(i)-1))\n",
        "    print(prework)\n",
        "    # no_multicor = {}\n",
        "    # for i in range(len(prework)):\n",
        "    #     if len(prework[i]) <= 1: no_multicor[i] = prework[i][:]\n",
        "    #     else:\n",
        "    #         no_multicor[i] = []\n",
        "    #         for j in prework[i]:\n",
        "    #             # print(prework[i])\n",
        "    #             temp = prework[i][:]\n",
        "    #             temp.remove(j)\n",
        "\n",
        "    #             for k in temp:\n",
        "    #                 if j not in prework[k] and j not in no_multicor[i]:\n",
        "    #                     no_multicor[i].append(j)\n",
        "    #         if not no_multicor[i]:\n",
        "    #             no_multicor[i].append(prework[i][-1])\n",
        "    # for i in range(len(no_multicor)):\n",
        "    #     if not no_multicor[i]:\n",
        "    #         models.append([])\n",
        "    #     else:\n",
        "    #         xtrain = np.array([table[j] for j in no_multicor[i]])\n",
        "    #         xtrain = xtrain.reshape((xtrain.shape[1], xtrain.shape[0]))\n",
        "    #         ytrain = np.array(table[i])\n",
        "    #         models.append(model.fit(xtrain, ytrain))\n",
        "    # return models, no_multicor\n",
        "\n",
        "\n",
        "mlmodels(test)"
      ],
      "metadata": {
        "id": "J-ZQvcozeFhu",
        "colab": {
          "base_uri": "https://localhost:8080/",
          "height": 373
        },
        "outputId": "60b23f17-1c25-48b7-96aa-63d3c132407c"
      },
      "execution_count": 189,
      "outputs": [
        {
          "output_type": "stream",
          "name": "stdout",
          "text": [
            "<class 'list'>\n"
          ]
        },
        {
          "output_type": "error",
          "ename": "AttributeError",
          "evalue": "ignored",
          "traceback": [
            "\u001b[0;31m---------------------------------------------------------------------------\u001b[0m",
            "\u001b[0;31mAttributeError\u001b[0m                            Traceback (most recent call last)",
            "\u001b[0;32m<ipython-input-189-ba0b34e38255>\u001b[0m in \u001b[0;36m<module>\u001b[0;34m\u001b[0m\n\u001b[1;32m     70\u001b[0m \u001b[0;34m\u001b[0m\u001b[0m\n\u001b[1;32m     71\u001b[0m \u001b[0;34m\u001b[0m\u001b[0m\n\u001b[0;32m---> 72\u001b[0;31m \u001b[0mmlmodels\u001b[0m\u001b[0;34m(\u001b[0m\u001b[0mtest\u001b[0m\u001b[0;34m)\u001b[0m\u001b[0;34m\u001b[0m\u001b[0;34m\u001b[0m\u001b[0m\n\u001b[0m",
            "\u001b[0;32m<ipython-input-189-ba0b34e38255>\u001b[0m in \u001b[0;36mmlmodels\u001b[0;34m(table)\u001b[0m\n\u001b[1;32m     36\u001b[0m \u001b[0;34m\u001b[0m\u001b[0m\n\u001b[1;32m     37\u001b[0m     \u001b[0mprework\u001b[0m \u001b[0;34m=\u001b[0m \u001b[0;34m{\u001b[0m\u001b[0;34m}\u001b[0m\u001b[0;34m\u001b[0m\u001b[0;34m\u001b[0m\u001b[0m\n\u001b[0;32m---> 38\u001b[0;31m     \u001b[0mcrosscorr\u001b[0m \u001b[0;34m=\u001b[0m \u001b[0mcheck_crosscorr\u001b[0m\u001b[0;34m(\u001b[0m\u001b[0mtable\u001b[0m\u001b[0;34m)\u001b[0m\u001b[0;34m\u001b[0m\u001b[0;34m\u001b[0m\u001b[0m\n\u001b[0m\u001b[1;32m     39\u001b[0m \u001b[0;34m\u001b[0m\u001b[0m\n\u001b[1;32m     40\u001b[0m     \u001b[0;32mfor\u001b[0m \u001b[0mi\u001b[0m\u001b[0;34m,\u001b[0m \u001b[0mk\u001b[0m \u001b[0;32min\u001b[0m \u001b[0menumerate\u001b[0m\u001b[0;34m(\u001b[0m\u001b[0mtable\u001b[0m\u001b[0;34m)\u001b[0m\u001b[0;34m:\u001b[0m\u001b[0;34m\u001b[0m\u001b[0;34m\u001b[0m\u001b[0m\n",
            "\u001b[0;32m<ipython-input-189-ba0b34e38255>\u001b[0m in \u001b[0;36mcheck_crosscorr\u001b[0;34m(array)\u001b[0m\n\u001b[1;32m     13\u001b[0m         \u001b[0;32mfor\u001b[0m \u001b[0mj\u001b[0m\u001b[0;34m,\u001b[0m \u001b[0mk\u001b[0m \u001b[0;32min\u001b[0m \u001b[0menumerate\u001b[0m\u001b[0;34m(\u001b[0m\u001b[0marray\u001b[0m\u001b[0;34m)\u001b[0m\u001b[0;34m:\u001b[0m\u001b[0;34m\u001b[0m\u001b[0;34m\u001b[0m\u001b[0m\n\u001b[1;32m     14\u001b[0m             \u001b[0mprint\u001b[0m\u001b[0;34m(\u001b[0m\u001b[0mtype\u001b[0m\u001b[0;34m(\u001b[0m\u001b[0mn\u001b[0m\u001b[0;34m)\u001b[0m\u001b[0;34m)\u001b[0m\u001b[0;34m\u001b[0m\u001b[0;34m\u001b[0m\u001b[0m\n\u001b[0;32m---> 15\u001b[0;31m             \u001b[0mpearson_p\u001b[0m\u001b[0;34m[\u001b[0m\u001b[0mi\u001b[0m\u001b[0;34m]\u001b[0m\u001b[0;34m[\u001b[0m\u001b[0mj\u001b[0m\u001b[0;34m]\u001b[0m \u001b[0;34m=\u001b[0m \u001b[0msp\u001b[0m\u001b[0;34m.\u001b[0m\u001b[0mstats\u001b[0m\u001b[0;34m.\u001b[0m\u001b[0mpearsonr\u001b[0m\u001b[0;34m(\u001b[0m\u001b[0mn\u001b[0m\u001b[0;34m,\u001b[0m \u001b[0mk\u001b[0m\u001b[0;34m)\u001b[0m\u001b[0;34m[\u001b[0m\u001b[0;36m1\u001b[0m\u001b[0;34m]\u001b[0m\u001b[0;34m\u001b[0m\u001b[0;34m\u001b[0m\u001b[0m\n\u001b[0m\u001b[1;32m     16\u001b[0m             \u001b[0mspearman_p\u001b[0m\u001b[0;34m[\u001b[0m\u001b[0mi\u001b[0m\u001b[0;34m]\u001b[0m\u001b[0;34m[\u001b[0m\u001b[0mj\u001b[0m\u001b[0;34m]\u001b[0m \u001b[0;34m=\u001b[0m \u001b[0msp\u001b[0m\u001b[0;34m.\u001b[0m\u001b[0mstats\u001b[0m\u001b[0;34m.\u001b[0m\u001b[0mspearmanr\u001b[0m\u001b[0;34m(\u001b[0m\u001b[0mn\u001b[0m\u001b[0;34m,\u001b[0m \u001b[0mk\u001b[0m\u001b[0;34m)\u001b[0m\u001b[0;34m[\u001b[0m\u001b[0;36m1\u001b[0m\u001b[0;34m]\u001b[0m\u001b[0;34m\u001b[0m\u001b[0;34m\u001b[0m\u001b[0m\n\u001b[1;32m     17\u001b[0m     \u001b[0mcorrelated_p\u001b[0m \u001b[0;34m=\u001b[0m \u001b[0;34m[\u001b[0m\u001b[0;34m]\u001b[0m\u001b[0;34m\u001b[0m\u001b[0;34m\u001b[0m\u001b[0m\n",
            "\u001b[0;32m/usr/local/lib/python3.7/dist-packages/scipy/stats/stats.py\u001b[0m in \u001b[0;36mpearsonr\u001b[0;34m(x, y)\u001b[0m\n\u001b[1;32m   4020\u001b[0m \u001b[0;34m\u001b[0m\u001b[0m\n\u001b[1;32m   4021\u001b[0m     \u001b[0;31m# If an input is constant, the correlation coefficient is not defined.\u001b[0m\u001b[0;34m\u001b[0m\u001b[0;34m\u001b[0m\u001b[0;34m\u001b[0m\u001b[0m\n\u001b[0;32m-> 4022\u001b[0;31m     \u001b[0;32mif\u001b[0m \u001b[0;34m(\u001b[0m\u001b[0mx\u001b[0m \u001b[0;34m==\u001b[0m \u001b[0mx\u001b[0m\u001b[0;34m[\u001b[0m\u001b[0;36m0\u001b[0m\u001b[0;34m]\u001b[0m\u001b[0;34m)\u001b[0m\u001b[0;34m.\u001b[0m\u001b[0mall\u001b[0m\u001b[0;34m(\u001b[0m\u001b[0;34m)\u001b[0m \u001b[0;32mor\u001b[0m \u001b[0;34m(\u001b[0m\u001b[0my\u001b[0m \u001b[0;34m==\u001b[0m \u001b[0my\u001b[0m\u001b[0;34m[\u001b[0m\u001b[0;36m0\u001b[0m\u001b[0;34m]\u001b[0m\u001b[0;34m)\u001b[0m\u001b[0;34m.\u001b[0m\u001b[0mall\u001b[0m\u001b[0;34m(\u001b[0m\u001b[0;34m)\u001b[0m\u001b[0;34m:\u001b[0m\u001b[0;34m\u001b[0m\u001b[0;34m\u001b[0m\u001b[0m\n\u001b[0m\u001b[1;32m   4023\u001b[0m         \u001b[0mwarnings\u001b[0m\u001b[0;34m.\u001b[0m\u001b[0mwarn\u001b[0m\u001b[0;34m(\u001b[0m\u001b[0mPearsonRConstantInputWarning\u001b[0m\u001b[0;34m(\u001b[0m\u001b[0;34m)\u001b[0m\u001b[0;34m)\u001b[0m\u001b[0;34m\u001b[0m\u001b[0;34m\u001b[0m\u001b[0m\n\u001b[1;32m   4024\u001b[0m         \u001b[0;32mreturn\u001b[0m \u001b[0mnp\u001b[0m\u001b[0;34m.\u001b[0m\u001b[0mnan\u001b[0m\u001b[0;34m,\u001b[0m \u001b[0mnp\u001b[0m\u001b[0;34m.\u001b[0m\u001b[0mnan\u001b[0m\u001b[0;34m\u001b[0m\u001b[0;34m\u001b[0m\u001b[0m\n",
            "\u001b[0;31mAttributeError\u001b[0m: 'bool' object has no attribute 'all'"
          ]
        }
      ]
    },
    {
      "cell_type": "code",
      "source": [
        "# Делаем таблицу с тестовыми элементами, соответствующей начальной таблице\n",
        "zero_base = [[0 for j in range(len(base[0]))] for i in range(len(base))]\n",
        "columns = get_column(base, test)\n",
        "known_columns = [i[1] for i in columns]\n",
        "# Подставляем известные значения из теста в эту таблицу\n",
        "lengths = []\n",
        "for i in columns:\n",
        "    zero_base[i[1]][:len(test[i[0]])] = test[i[0]]\n",
        "    # zero_base[i[1]][len(test[i[0]]):] = [0 for j in range(len(base[i[1]]) - len(test[i[0]]))]\n",
        "    lengths.append(len(test[i[0]]))\n",
        "# Пока длина всех известных столбцов неравна, то запускаем решающий лес для\n",
        "# дозаполнения до нужной длины, иначе - применяем нейросеть\n",
        "# \n",
        "print(len(correlated[known_columns[0]]))\n",
        "for i in known_columns:\n",
        "    current = [zero_base[i][j] for j in range(len(zero_base[i])) if zero_base[i][j] != 0]\n",
        "    while len(current) != max(lengths):\n",
        "        xtrain = [zero_base[k][len(current) + 1] for k in correlated[i]] \n",
        "        xtrain = np.array(xtrain).reshape((1, -1))\n",
        "        print(xtrain)\n",
        "        zero_base[i][len(current) + 1] = models[i].predict(xtrain)\n",
        "        current = [zero_base[i][j] for j in range(len(zero_base[i])) if zero_base[i][j] != 0 and j != 0]\n",
        "\n",
        "print(zero_base)"
      ],
      "metadata": {
        "colab": {
          "base_uri": "https://localhost:8080/",
          "height": 481
        },
        "id": "5htRFBN_1ZKu",
        "outputId": "679dc367-3784-4c20-ed4d-1634257e8180"
      },
      "execution_count": 178,
      "outputs": [
        {
          "output_type": "stream",
          "name": "stdout",
          "text": [
            "15\n",
            "[[0.         0.         0.         0.         0.         0.\n",
            "  0.         0.         0.         0.         0.         0.\n",
            "  0.         0.         4.69866053]]\n"
          ]
        },
        {
          "output_type": "error",
          "ename": "ValueError",
          "evalue": "ignored",
          "traceback": [
            "\u001b[0;31m---------------------------------------------------------------------------\u001b[0m",
            "\u001b[0;31mValueError\u001b[0m                                Traceback (most recent call last)",
            "\u001b[0;32m<ipython-input-178-2a1acd9c2bf6>\u001b[0m in \u001b[0;36m<module>\u001b[0;34m\u001b[0m\n\u001b[1;32m     19\u001b[0m         \u001b[0mxtrain\u001b[0m \u001b[0;34m=\u001b[0m \u001b[0mnp\u001b[0m\u001b[0;34m.\u001b[0m\u001b[0marray\u001b[0m\u001b[0;34m(\u001b[0m\u001b[0mxtrain\u001b[0m\u001b[0;34m)\u001b[0m\u001b[0;34m.\u001b[0m\u001b[0mreshape\u001b[0m\u001b[0;34m(\u001b[0m\u001b[0;34m(\u001b[0m\u001b[0;36m1\u001b[0m\u001b[0;34m,\u001b[0m \u001b[0;34m-\u001b[0m\u001b[0;36m1\u001b[0m\u001b[0;34m)\u001b[0m\u001b[0;34m)\u001b[0m\u001b[0;34m\u001b[0m\u001b[0;34m\u001b[0m\u001b[0m\n\u001b[1;32m     20\u001b[0m         \u001b[0mprint\u001b[0m\u001b[0;34m(\u001b[0m\u001b[0mxtrain\u001b[0m\u001b[0;34m)\u001b[0m\u001b[0;34m\u001b[0m\u001b[0;34m\u001b[0m\u001b[0m\n\u001b[0;32m---> 21\u001b[0;31m         \u001b[0mzero_base\u001b[0m\u001b[0;34m[\u001b[0m\u001b[0mi\u001b[0m\u001b[0;34m]\u001b[0m\u001b[0;34m[\u001b[0m\u001b[0mlen\u001b[0m\u001b[0;34m(\u001b[0m\u001b[0mcurrent\u001b[0m\u001b[0;34m)\u001b[0m \u001b[0;34m+\u001b[0m \u001b[0;36m1\u001b[0m\u001b[0;34m]\u001b[0m \u001b[0;34m=\u001b[0m \u001b[0mmodels\u001b[0m\u001b[0;34m[\u001b[0m\u001b[0mi\u001b[0m\u001b[0;34m]\u001b[0m\u001b[0;34m.\u001b[0m\u001b[0mpredict\u001b[0m\u001b[0;34m(\u001b[0m\u001b[0mxtrain\u001b[0m\u001b[0;34m)\u001b[0m\u001b[0;34m\u001b[0m\u001b[0;34m\u001b[0m\u001b[0m\n\u001b[0m\u001b[1;32m     22\u001b[0m         \u001b[0mcurrent\u001b[0m \u001b[0;34m=\u001b[0m \u001b[0;34m[\u001b[0m\u001b[0mzero_base\u001b[0m\u001b[0;34m[\u001b[0m\u001b[0mi\u001b[0m\u001b[0;34m]\u001b[0m\u001b[0;34m[\u001b[0m\u001b[0mj\u001b[0m\u001b[0;34m]\u001b[0m \u001b[0;32mfor\u001b[0m \u001b[0mj\u001b[0m \u001b[0;32min\u001b[0m \u001b[0mrange\u001b[0m\u001b[0;34m(\u001b[0m\u001b[0mlen\u001b[0m\u001b[0;34m(\u001b[0m\u001b[0mzero_base\u001b[0m\u001b[0;34m[\u001b[0m\u001b[0mi\u001b[0m\u001b[0;34m]\u001b[0m\u001b[0;34m)\u001b[0m\u001b[0;34m)\u001b[0m \u001b[0;32mif\u001b[0m \u001b[0mzero_base\u001b[0m\u001b[0;34m[\u001b[0m\u001b[0mi\u001b[0m\u001b[0;34m]\u001b[0m\u001b[0;34m[\u001b[0m\u001b[0mj\u001b[0m\u001b[0;34m]\u001b[0m \u001b[0;34m!=\u001b[0m \u001b[0;36m0\u001b[0m \u001b[0;32mand\u001b[0m \u001b[0mj\u001b[0m \u001b[0;34m!=\u001b[0m \u001b[0;36m0\u001b[0m\u001b[0;34m]\u001b[0m\u001b[0;34m\u001b[0m\u001b[0;34m\u001b[0m\u001b[0m\n\u001b[1;32m     23\u001b[0m \u001b[0;34m\u001b[0m\u001b[0m\n",
            "\u001b[0;32m/usr/local/lib/python3.7/dist-packages/sklearn/ensemble/_forest.py\u001b[0m in \u001b[0;36mpredict\u001b[0;34m(self, X)\u001b[0m\n\u001b[1;32m    969\u001b[0m         \u001b[0mcheck_is_fitted\u001b[0m\u001b[0;34m(\u001b[0m\u001b[0mself\u001b[0m\u001b[0;34m)\u001b[0m\u001b[0;34m\u001b[0m\u001b[0;34m\u001b[0m\u001b[0m\n\u001b[1;32m    970\u001b[0m         \u001b[0;31m# Check data\u001b[0m\u001b[0;34m\u001b[0m\u001b[0;34m\u001b[0m\u001b[0;34m\u001b[0m\u001b[0m\n\u001b[0;32m--> 971\u001b[0;31m         \u001b[0mX\u001b[0m \u001b[0;34m=\u001b[0m \u001b[0mself\u001b[0m\u001b[0;34m.\u001b[0m\u001b[0m_validate_X_predict\u001b[0m\u001b[0;34m(\u001b[0m\u001b[0mX\u001b[0m\u001b[0;34m)\u001b[0m\u001b[0;34m\u001b[0m\u001b[0;34m\u001b[0m\u001b[0m\n\u001b[0m\u001b[1;32m    972\u001b[0m \u001b[0;34m\u001b[0m\u001b[0m\n\u001b[1;32m    973\u001b[0m         \u001b[0;31m# Assign chunk of trees to jobs\u001b[0m\u001b[0;34m\u001b[0m\u001b[0;34m\u001b[0m\u001b[0;34m\u001b[0m\u001b[0m\n",
            "\u001b[0;32m/usr/local/lib/python3.7/dist-packages/sklearn/ensemble/_forest.py\u001b[0m in \u001b[0;36m_validate_X_predict\u001b[0;34m(self, X)\u001b[0m\n\u001b[1;32m    577\u001b[0m         Validate X whenever one tries to predict, apply, predict_proba.\"\"\"\n\u001b[1;32m    578\u001b[0m         \u001b[0mcheck_is_fitted\u001b[0m\u001b[0;34m(\u001b[0m\u001b[0mself\u001b[0m\u001b[0;34m)\u001b[0m\u001b[0;34m\u001b[0m\u001b[0;34m\u001b[0m\u001b[0m\n\u001b[0;32m--> 579\u001b[0;31m         \u001b[0mX\u001b[0m \u001b[0;34m=\u001b[0m \u001b[0mself\u001b[0m\u001b[0;34m.\u001b[0m\u001b[0m_validate_data\u001b[0m\u001b[0;34m(\u001b[0m\u001b[0mX\u001b[0m\u001b[0;34m,\u001b[0m \u001b[0mdtype\u001b[0m\u001b[0;34m=\u001b[0m\u001b[0mDTYPE\u001b[0m\u001b[0;34m,\u001b[0m \u001b[0maccept_sparse\u001b[0m\u001b[0;34m=\u001b[0m\u001b[0;34m\"csr\"\u001b[0m\u001b[0;34m,\u001b[0m \u001b[0mreset\u001b[0m\u001b[0;34m=\u001b[0m\u001b[0;32mFalse\u001b[0m\u001b[0;34m)\u001b[0m\u001b[0;34m\u001b[0m\u001b[0;34m\u001b[0m\u001b[0m\n\u001b[0m\u001b[1;32m    580\u001b[0m         \u001b[0;32mif\u001b[0m \u001b[0missparse\u001b[0m\u001b[0;34m(\u001b[0m\u001b[0mX\u001b[0m\u001b[0;34m)\u001b[0m \u001b[0;32mand\u001b[0m \u001b[0;34m(\u001b[0m\u001b[0mX\u001b[0m\u001b[0;34m.\u001b[0m\u001b[0mindices\u001b[0m\u001b[0;34m.\u001b[0m\u001b[0mdtype\u001b[0m \u001b[0;34m!=\u001b[0m \u001b[0mnp\u001b[0m\u001b[0;34m.\u001b[0m\u001b[0mintc\u001b[0m \u001b[0;32mor\u001b[0m \u001b[0mX\u001b[0m\u001b[0;34m.\u001b[0m\u001b[0mindptr\u001b[0m\u001b[0;34m.\u001b[0m\u001b[0mdtype\u001b[0m \u001b[0;34m!=\u001b[0m \u001b[0mnp\u001b[0m\u001b[0;34m.\u001b[0m\u001b[0mintc\u001b[0m\u001b[0;34m)\u001b[0m\u001b[0;34m:\u001b[0m\u001b[0;34m\u001b[0m\u001b[0;34m\u001b[0m\u001b[0m\n\u001b[1;32m    581\u001b[0m             \u001b[0;32mraise\u001b[0m \u001b[0mValueError\u001b[0m\u001b[0;34m(\u001b[0m\u001b[0;34m\"No support for np.int64 index based sparse matrices\"\u001b[0m\u001b[0;34m)\u001b[0m\u001b[0;34m\u001b[0m\u001b[0;34m\u001b[0m\u001b[0m\n",
            "\u001b[0;32m/usr/local/lib/python3.7/dist-packages/sklearn/base.py\u001b[0m in \u001b[0;36m_validate_data\u001b[0;34m(self, X, y, reset, validate_separately, **check_params)\u001b[0m\n\u001b[1;32m    583\u001b[0m \u001b[0;34m\u001b[0m\u001b[0m\n\u001b[1;32m    584\u001b[0m         \u001b[0;32mif\u001b[0m \u001b[0;32mnot\u001b[0m \u001b[0mno_val_X\u001b[0m \u001b[0;32mand\u001b[0m \u001b[0mcheck_params\u001b[0m\u001b[0;34m.\u001b[0m\u001b[0mget\u001b[0m\u001b[0;34m(\u001b[0m\u001b[0;34m\"ensure_2d\"\u001b[0m\u001b[0;34m,\u001b[0m \u001b[0;32mTrue\u001b[0m\u001b[0;34m)\u001b[0m\u001b[0;34m:\u001b[0m\u001b[0;34m\u001b[0m\u001b[0;34m\u001b[0m\u001b[0m\n\u001b[0;32m--> 585\u001b[0;31m             \u001b[0mself\u001b[0m\u001b[0;34m.\u001b[0m\u001b[0m_check_n_features\u001b[0m\u001b[0;34m(\u001b[0m\u001b[0mX\u001b[0m\u001b[0;34m,\u001b[0m \u001b[0mreset\u001b[0m\u001b[0;34m=\u001b[0m\u001b[0mreset\u001b[0m\u001b[0;34m)\u001b[0m\u001b[0;34m\u001b[0m\u001b[0;34m\u001b[0m\u001b[0m\n\u001b[0m\u001b[1;32m    586\u001b[0m \u001b[0;34m\u001b[0m\u001b[0m\n\u001b[1;32m    587\u001b[0m         \u001b[0;32mreturn\u001b[0m \u001b[0mout\u001b[0m\u001b[0;34m\u001b[0m\u001b[0;34m\u001b[0m\u001b[0m\n",
            "\u001b[0;32m/usr/local/lib/python3.7/dist-packages/sklearn/base.py\u001b[0m in \u001b[0;36m_check_n_features\u001b[0;34m(self, X, reset)\u001b[0m\n\u001b[1;32m    399\u001b[0m         \u001b[0;32mif\u001b[0m \u001b[0mn_features\u001b[0m \u001b[0;34m!=\u001b[0m \u001b[0mself\u001b[0m\u001b[0;34m.\u001b[0m\u001b[0mn_features_in_\u001b[0m\u001b[0;34m:\u001b[0m\u001b[0;34m\u001b[0m\u001b[0;34m\u001b[0m\u001b[0m\n\u001b[1;32m    400\u001b[0m             raise ValueError(\n\u001b[0;32m--> 401\u001b[0;31m                 \u001b[0;34mf\"X has {n_features} features, but {self.__class__.__name__} \"\u001b[0m\u001b[0;34m\u001b[0m\u001b[0;34m\u001b[0m\u001b[0m\n\u001b[0m\u001b[1;32m    402\u001b[0m                 \u001b[0;34mf\"is expecting {self.n_features_in_} features as input.\"\u001b[0m\u001b[0;34m\u001b[0m\u001b[0;34m\u001b[0m\u001b[0m\n\u001b[1;32m    403\u001b[0m             )\n",
            "\u001b[0;31mValueError\u001b[0m: X has 15 features, but RandomForestRegressor is expecting 55 features as input."
          ]
        }
      ]
    }
  ]
}